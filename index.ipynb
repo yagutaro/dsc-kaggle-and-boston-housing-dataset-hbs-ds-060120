{
 "cells": [
  {
   "cell_type": "markdown",
   "metadata": {},
   "source": [
    "# Kaggle and The Ames Housing Dataset\n",
    "\n",
    "## Introduction\n",
    "\n",
    "Kaggle hosts numerous Data Science competitions where you can grab datasets and practice your skills at creating machine learning algorithms to answer useful questions. Here we'll sign up for an account and begin investigating a classic Data Science problem using the Ames housing dataset.\n",
    "\n",
    "## Objectives\n",
    "\n",
    "* Create a Kaggle account and download a dataset \n",
    "\n",
    "\n",
    "## Sign up\n",
    "* Navigate to [kaggle.com](https://www.kaggle.com)\n",
    "\n",
    "<img src=\"images/kagglehome.png\" width=\"800\">\n",
    "\n",
    "* Click \"Sign in\" and then \n",
    "* Click \"Create one\" to make a new account\n",
    "<img src=\"images/kagglelogin1.png\" width=\"300\">\n",
    "* Fill out the basic information\n",
    "<img src=\"images/kagglelogin2.png\" width=\"300\">\n",
    "* Accept the Privacy and Terms agreement\n",
    "\n",
    "## Congratulations! \n",
    "\n",
    "You should now be signed up for Kaggle where you'll have access to a range of datasets, competitions, and other Data Science resources! Welcome to the community!\n",
    "\n",
    "## Summary\n",
    "\n",
    "In our upcoming lab, you'll then be working with this dataset: https://www.kaggle.com/c/house-prices-advanced-regression-techniques. To download it, click on the \"data\" tab and then click the \"download all\" to get a copy of the data."
   ]
  }
 ],
 "metadata": {
  "kernelspec": {
   "display_name": "Python 3",
   "language": "python",
   "name": "python3"
  },
  "language_info": {
   "codemirror_mode": {
    "name": "ipython",
    "version": 3
   },
   "file_extension": ".py",
   "mimetype": "text/x-python",
   "name": "python",
   "nbconvert_exporter": "python",
   "pygments_lexer": "ipython3",
   "version": "3.6.9"
  }
 },
 "nbformat": 4,
 "nbformat_minor": 2
}
